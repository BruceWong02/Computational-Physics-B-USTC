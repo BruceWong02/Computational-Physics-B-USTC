{
 "cells": [
  {
   "cell_type": "markdown",
   "metadata": {},
   "source": [
    "# 计算物理B第五次作业\n",
    "\n",
    "PB20511896 王金鑫"
   ]
  },
  {
   "cell_type": "code",
   "execution_count": 1,
   "metadata": {},
   "outputs": [],
   "source": [
    "# !/usr/bin/env python\n",
    "# -*- coding: utf-8 -*-\n",
    "\n",
    "# ----------------------------------------------------------------\n",
    "# @copyright (C), 2022, Bruce Wong, All rights reserved.\n",
    "# @File Name   : main.ipynb\n",
    "# @Author      : Bruce Wong\n",
    "# @Version     : \n",
    "# @Date        : 2022-11-02 13:15:13\n",
    "# @Description : \n",
    "# \n",
    "# The 5th homework of Computational Physics. Solving a Laplace \n",
    "# equation by finite element method.\n",
    "# \n",
    "# ----------------------------------------------------------------\n"
   ]
  },
  {
   "cell_type": "markdown",
   "metadata": {},
   "source": [
    "### 调用第三方库\n",
    "\n",
    "- `matplotlib.pyplot`: 绘图。\n",
    "- `time`: 调用当前时间以计算运行时间。"
   ]
  },
  {
   "cell_type": "code",
   "execution_count": 2,
   "metadata": {},
   "outputs": [],
   "source": [
    "import matplotlib.pyplot as plt\n",
    "from matplotlib import cm\n",
    "import time"
   ]
  },
  {
   "cell_type": "markdown",
   "metadata": {},
   "source": [
    "### 题目\n",
    "\n",
    "$$\n",
    "\\left\\{\n",
    "\\begin{matrix}\n",
    "\\nabla^2 \\phi (x,y) = 0\\\\\n",
    "\\phi(x,0) = \\phi(x,1) = 0\\\\\n",
    "\\phi(0,y) = \\phi(1,y) = 1\\\\\n",
    "0\\leq x\\leq1 ,\\quad 0\\leq y\\leq 1\n",
    "\\end{matrix}\n",
    "\\right.\n",
    "$$\n",
    "\n",
    "- 使用有限元法求解方程，并使用超松弛迭代法求解最终线性方程组。其中自行优化松弛迭代参数与次数。\n",
    "\n",
    "- 画出 $\\phi (x,y)$ 的分布。"
   ]
  },
  {
   "cell_type": "markdown",
   "metadata": {},
   "source": [
    "### 计算方法\n",
    "\n",
    "原偏微分方程相当与一个满足第一类边界条件的正方形静电场\n",
    "\n",
    "电荷密度 $\\rho=0$ ，泛函为\n",
    "$$\n",
    "I(\\phi) = \\iint\\limits_{D(L)} (\\nabla \\phi)^2 dxdy\n",
    "$$\n",
    "\n",
    "因此有限元法的最终线性方程组为 $(K)(\\Phi)=0$ 将边界节点编号放在最后面可得\n",
    "$$\n",
    "\\left\\{\n",
    "\\begin{matrix}\n",
    "(K_{11})(\\Phi_1)=-(K_{12})(\\Phi_2)\\\\\n",
    "(\\Phi_2)=(\\Phi_0)\n",
    "\\end{matrix}\n",
    "\\right.\n",
    "$$\n",
    "\n",
    "将正方形场按如下方式划分为三角形。\n",
    "\n",
    "| ![grids](grids.jpg) | ![grids2](grids2.jpg) |\n",
    "|-|-|\n",
    "\n",
    "共划分32x32个格子，2042个元素，31x31个内节点，128个节点在边界上。其中每个内节点会有6个相邻节点。元素编号和节点编号如左图所示。\n",
    "\n",
    "$\\Phi_{11}$（红色） 和 $\\Phi_2$ （蓝色） 的编号如右图所示。"
   ]
  },
  {
   "cell_type": "markdown",
   "metadata": {},
   "source": [
    "### 计算过程"
   ]
  },
  {
   "cell_type": "code",
   "execution_count": 3,
   "metadata": {},
   "outputs": [],
   "source": [
    "Ngrids = 32\n",
    "gridWidth = 1/Ngrids\n",
    "\n",
    "n_0 = (Ngrids-1)*(Ngrids-1)\n",
    "n_1 = (Ngrids+1)*(Ngrids+1)\n",
    "\n",
    "Grids = [[0 for i in range(Ngrids+1)] for j in range(Ngrids+1)]\n",
    "for i in range(Ngrids+1):\n",
    "    Grids[0][i] = n_0+i\n",
    "    Grids[Ngrids][i] = Ngrids*(Ngrids+1)+i\n",
    "for i in range(Ngrids-1):\n",
    "    Grids[i+1][0] = Grids[i][Ngrids]+1\n",
    "    Grids[i+1][Ngrids] = Grids[i+1][0]+1\n",
    "    for j in range(Ngrids-1):\n",
    "        Grids[i+1][j+1] = i*(Ngrids-1)+j\n",
    "\n",
    "# print(Grids)\n",
    "\n",
    "x, y = [0 for i in range(n_1)], [0 for i in range(n_1)]\n",
    "for i in range(Ngrids+1):\n",
    "    for j in range(Ngrids+1):\n",
    "        x[Grids[i][j]] = j*gridWidth\n",
    "        y[Grids[i][j]] = (Ngrids-i)*gridWidth\n",
    "\n",
    "K_1 = [[0 for i in range(n_1)] for j in range(n_0)]\n",
    "\n",
    "Phi1 = [1 for i in range(n_0)]\n",
    "Phi2 = [0]*(Ngrids+1) + [1]*2*(Ngrids-1) + [0]*(Ngrids+1)"
   ]
  },
  {
   "cell_type": "markdown",
   "metadata": {},
   "source": [
    "定义元素类"
   ]
  },
  {
   "cell_type": "code",
   "execution_count": 4,
   "metadata": {},
   "outputs": [],
   "source": [
    "class element(object):\n",
    "    def __init__(self, i, j, m):\n",
    "        # index of nodes\n",
    "        self.ijm = [i, j, m]\n",
    "        # self.i, self.j, self.m = i, j, m\n",
    "        # some paraments\n",
    "        self.a = [x[j]*y[m]-x[m]*y[j], x[m]*y[i]-x[i]*y[m], x[i]*y[j]-x[j]*y[i]] # i, j, m\n",
    "        self.b = [y[j]-y[m], y[m]-y[i], y[i]-y[j]] # i, j, m\n",
    "        self.c = [x[m]-x[j], x[i]-x[m], x[j]-x[i]] # i, j, m\n",
    "        # area\n",
    "        self.Delta = (self.b[0]*self.c[1]-self.b[1]*self.c[0])/2\n",
    "\n",
    "    def K_ij(self, index1, index2):\n",
    "        # Matrix K\n",
    "        # Index: i-0 j-1 m-2\n",
    "        # return K[i][j]\n",
    "        return (self.b[index1]*self.b[index2]+self.c[index1]*self.c[index2])/(4*self.Delta)\n"
   ]
  },
  {
   "cell_type": "markdown",
   "metadata": {},
   "source": [
    "按元素遍历，计算 $K_1$\n",
    "\n",
    "先只算上三角，再由对称性算 $K_{11}$ 的下三角"
   ]
  },
  {
   "cell_type": "code",
   "execution_count": 5,
   "metadata": {},
   "outputs": [],
   "source": [
    "# element loop\n",
    "for i in range(Ngrids):\n",
    "    for j in range(Ngrids):\n",
    "        # element 1\n",
    "        ele1 = element(i=Grids[i][j], j=Grids[i+1][j], m=Grids[i][j+1])\n",
    "        # element 2\n",
    "        ele2 = element(i=Grids[i+1][j], j=Grids[i+1][j+1], m=Grids[i][j+1])\n",
    "\n",
    "        # index loop\n",
    "        for index1 in range(3):\n",
    "            for index2 in range(3):\n",
    "                if (ele1.ijm[index1]<=ele1.ijm[index2] and ele1.ijm[index1]<n_0):\n",
    "                    K_1[ele1.ijm[index1]][ele1.ijm[index2]] += ele1.K_ij(index1, index2)\n",
    "                if (ele2.ijm[index1]<=ele2.ijm[index2] and ele2.ijm[index1]<n_0):\n",
    "                    K_1[ele2.ijm[index1]][ele2.ijm[index2]] += ele2.K_ij(index1, index2)\n",
    "        \n",
    "for i in range(n_0):\n",
    "    for j in range(0, i):\n",
    "        K_1[i][j] = K_1[j][i]"
   ]
  },
  {
   "cell_type": "markdown",
   "metadata": {},
   "source": [
    "计算 $K_{11}$ 和 $K_{12}$"
   ]
  },
  {
   "cell_type": "code",
   "execution_count": 6,
   "metadata": {},
   "outputs": [],
   "source": [
    "K_11, K_12 = [[] for i in range(n_0)], [[] for i in range(n_0)]\n",
    "for i in range(n_0):\n",
    "    K_11[i] = K_1[i][:n_0]\n",
    "    K_12[i] = K_1[i][n_0:]"
   ]
  },
  {
   "cell_type": "markdown",
   "metadata": {},
   "source": [
    "求解方程组 $(K_{11})(\\Phi_1)=-(K_{12})(\\Phi_2)=(\\Phi_3)$\n",
    "\n",
    "利用Gauss-Seidel迭代法\n",
    "\n",
    "$$\n",
    "Ax=b \\quad \\Rightarrow \\quad x = (I - D^{-1}A)x + D^{-1}b\\\\\n",
    "\n",
    "\\left\\{\n",
    "\\begin{matrix}\n",
    "A=I-D^{-1}A \\\\\n",
    "b=D^{-1}b\n",
    "\\end{matrix}\n",
    "\\right. \\quad => \\quad x=Ax+b\n",
    "$$ \n",
    "\n",
    "再取 $\\omega=1$ 作超松弛迭代，实际上也就是Gauss-Seidel迭代，\n",
    "取1是因为后验地发现 $\\omega<1$ 的时候收敛速度较慢。\n",
    "\n",
    "这里 $Phi3 = b \\quad K_{11} = A \\quad Phi1 = x$ \n"
   ]
  },
  {
   "cell_type": "code",
   "execution_count": 7,
   "metadata": {},
   "outputs": [],
   "source": [
    "# Calculate Phi3\n",
    "Phi3 = [0]*n_0\n",
    "for i in range(n_0):\n",
    "    for j in range(n_1-n_0):\n",
    "        Phi3[i] += -K_12[i][j]*Phi2[j]\n",
    "    Phi3[i] /= K_11[i][i]\n",
    "# Calculate K_11\n",
    "for i in range(n_0):\n",
    "    K_11_ii = K_11[i][i]\n",
    "    for j in range(n_0):\n",
    "        K_11[i][j] /= (-K_11_ii)\n",
    "    K_11[i][i] = 0\n",
    "\n",
    "w = 1\n",
    "ZeroList = [0]*n_0\n",
    "Phi1_new = Phi1[:]\n"
   ]
  },
  {
   "cell_type": "markdown",
   "metadata": {},
   "source": [
    "\n",
    "定义迭代函数 `Iteration()`"
   ]
  },
  {
   "cell_type": "code",
   "execution_count": 8,
   "metadata": {},
   "outputs": [],
   "source": [
    "\n",
    "def Iteration():\n",
    "    Phi1 = Phi1_new[:]\n",
    "    # Phi1_new = ZeroList[:]\n",
    "    for i in range(n_0):\n",
    "        Phi1_new[i] = Phi3[i]\n",
    "        for j in range(n_0):\n",
    "            Phi1_new[i] += K_11[i][j]*Phi1_new[j]\n",
    "        Phi1_new[i] = w*Phi1_new[i] + (1-w)*Phi1[i]\n",
    "    \n",
    "    error = 0\n",
    "    for i in range(n_0):\n",
    "        error += (Phi1_new[i]-Phi1[i])**2\n",
    "    return error\n"
   ]
  },
  {
   "cell_type": "markdown",
   "metadata": {},
   "source": [
    "迭代\n",
    "\n",
    "输出迭代耗时\n",
    "\n",
    "这里用iters表示迭代次数上限"
   ]
  },
  {
   "cell_type": "code",
   "execution_count": 9,
   "metadata": {},
   "outputs": [
    {
     "name": "stdout",
     "output_type": "stream",
     "text": [
      "Start iteration...\n",
      "Iteration Over.\n",
      "Iteration times: 262\tProcess time: 47.328125\n"
     ]
    }
   ],
   "source": [
    "epsilon = 0.0001\n",
    "IterTimes = 0\n",
    "\n",
    "StartTime = time.process_time()\n",
    "iters = range(1000)\n",
    "print(\"Start iteration...\")\n",
    "for iter in iters:\n",
    "    if epsilon > Iteration():\n",
    "        break\n",
    "    IterTimes += 1\n",
    "print(\"Iteration Over.\")\n",
    "print(f\"Iteration times: {IterTimes}\\tProcess time: {time.process_time()-StartTime}\")"
   ]
  },
  {
   "cell_type": "code",
   "execution_count": 10,
   "metadata": {},
   "outputs": [],
   "source": [
    "phi_backup = Phi1_new[:]"
   ]
  },
  {
   "cell_type": "markdown",
   "metadata": {},
   "source": [
    "绘制图像"
   ]
  },
  {
   "cell_type": "code",
   "execution_count": 11,
   "metadata": {},
   "outputs": [],
   "source": [
    "Phi1_new += Phi2"
   ]
  },
  {
   "cell_type": "code",
   "execution_count": 14,
   "metadata": {},
   "outputs": [
    {
     "data": {
      "image/png": "[encoded data removed]",
      "text/plain": [
       "<Figure size 432x288 with 2 Axes>"
      ]
     },
     "metadata": {
      "needs_background": "light"
     },
     "output_type": "display_data"
    }
   ],
   "source": [
    "fig, ax = plt.subplots(1, 2, subplot_kw={\"projection\": \"3d\"})\n",
    "# fig = plt.figure()\n",
    "# aspect='equal'\n",
    "# ax1 = fig.add_subplot(111, projection=\"3d\")\n",
    "ax1, ax2 = ax[0], ax[1]\n",
    "\n",
    "ax1.set_xlabel(\"X\")\n",
    "ax1.set_ylabel(\"Y\")\n",
    "ax1.set_zlabel(\"$\\phi$\")\n",
    "ax1.set_title('$\\phi$')\n",
    "ax1.scatter3D(x, y, Phi1_new)\n",
    "\n",
    "# ax2 = fig.add_subplot(111, projection=\"3d\")\n",
    "ax2.set_xlabel(\"X\")\n",
    "ax2.set_ylabel(\"Y\")\n",
    "ax2.set_zlabel(\"$\\phi$\")\n",
    "ax2.set_title('$\\phi$')\n",
    "ax2.plot_trisurf(x, y, Phi1_new, cmap='rainbow')\n",
    "\n",
    "plt.show()"
   ]
  }
 ],
 "metadata": {
  "kernelspec": {
   "display_name": "Python 3.8.8 ('base')",
   "language": "python",
   "name": "python3"
  },
  "language_info": {
   "codemirror_mode": {
    "name": "ipython",
    "version": 3
   },
   "file_extension": ".py",
   "mimetype": "text/x-python",
   "name": "python",
   "nbconvert_exporter": "python",
   "pygments_lexer": "ipython3",
   "version": "3.8.8"
  },
  "orig_nbformat": 4,
  "vscode": {
   "interpreter": {
    "hash": "f9ac8dd3a99bb1ea99ca7c2b25771441ad4391538e000abd3dfba9abc5b655bd"
   }
  }
 },
 "nbformat": 4,
 "nbformat_minor": 2
}
