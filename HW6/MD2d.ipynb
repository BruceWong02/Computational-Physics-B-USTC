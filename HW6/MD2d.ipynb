{
 "cells": [
  {
   "cell_type": "markdown",
   "metadata": {},
   "source": [
    "# 计算物理B第六次作业--第四题\n",
    "\n",
    "PB20511896 王金鑫"
   ]
  },
  {
   "cell_type": "markdown",
   "metadata": {},
   "source": [
    "### 题目描述\n",
    "\n",
    "用分子动力学方法模拟64个粒子的运动"
   ]
  },
  {
   "cell_type": "code",
   "execution_count": 31,
   "metadata": {},
   "outputs": [],
   "source": [
    "# !/usr/bin/env python\n",
    "# -*- coding: utf-8 -*-\n",
    "\n",
    "# ----------------------------------------------------------------\n",
    "# @copyright (C), 2022, Bruce Wong, All rights reserved.\n",
    "# @File Name   : MD.ipynb\n",
    "# @Author      : Bruce Wong\n",
    "# @Version     : \n",
    "# @Date        : 2022-11-13 14:50:41\n",
    "# @Description : \n",
    "# \n",
    "# Molecular dynamics (MD), using Lennard-Jones potential and \n",
    "# Verlet algorithm.\n",
    "# \n",
    "# Only supporting cubic space now.\n",
    "#\n",
    "# ----------------------------------------------------------------\n",
    "\n"
   ]
  },
  {
   "cell_type": "markdown",
   "metadata": {},
   "source": [
    "### 导入库"
   ]
  },
  {
   "cell_type": "code",
   "execution_count": 32,
   "metadata": {},
   "outputs": [],
   "source": [
    "import random\n",
    "from math import cos, sin, pi, sqrt, acos\n",
    "import matplotlib.pyplot as plt\n"
   ]
  },
  {
   "cell_type": "markdown",
   "metadata": {},
   "source": [
    "### 定义参数\n"
   ]
  },
  {
   "cell_type": "code",
   "execution_count": 33,
   "metadata": {},
   "outputs": [],
   "source": [
    "epsilon, sigma = 1, 1\n",
    "Lx, Ly = 10, 10\n",
    "Ngrid = 10\n",
    "Npar = 64\n",
    "m = 1\n",
    "# boltzmann const\n",
    "k = 1\n",
    "\n",
    "# step length\n",
    "delta_t = 0.02\n",
    "h = delta_t\n",
    "# 100~200 steps"
   ]
  },
  {
   "cell_type": "markdown",
   "metadata": {},
   "source": [
    "### 定义函数和类"
   ]
  },
  {
   "cell_type": "markdown",
   "metadata": {},
   "source": [
    "计算粒子之间的距离"
   ]
  },
  {
   "cell_type": "code",
   "execution_count": 34,
   "metadata": {},
   "outputs": [],
   "source": [
    "# distence between two particles\n",
    "def ParticleDistence(par1, par2):\n",
    "    return sqrt((par1.x-par2.x)**2+(par1.y-par2.y)**2)\n"
   ]
  },
  {
   "cell_type": "markdown",
   "metadata": {},
   "source": [
    "绘制粒子空间位置"
   ]
  },
  {
   "cell_type": "code",
   "execution_count": 35,
   "metadata": {},
   "outputs": [],
   "source": [
    "def PlotParXY(cell):\n",
    "    x, y = [], []\n",
    "    for par in cell.pars:\n",
    "        x.append(par.x)\n",
    "        y.append(par.y)\n",
    "\n",
    "    # fig, ax = plt.subplots(1, 1, subplot_kw={\"projection\": \"3d\"})\n",
    "    fig = plt.figure()\n",
    "    aspect='equal'\n",
    "    ax1 = fig.add_subplot(111)\n",
    "    # ax1 = ax[0]\n",
    "    ax1.set_xlabel(\"X\")\n",
    "    ax1.set_ylabel(\"Y\")\n",
    "    ax1.scatter(x, y)\n",
    "    "
   ]
  },
  {
   "cell_type": "markdown",
   "metadata": {},
   "source": [
    "粒子类"
   ]
  },
  {
   "cell_type": "code",
   "execution_count": 36,
   "metadata": {},
   "outputs": [],
   "source": [
    "class Particle2D(object):\n",
    "    Fx, Fy = 0, 0\n",
    "    # potential energy\n",
    "    PE = 0\n",
    "    # def __init__(self, x=0, y=0, z=0, V=0, theta=0, phi=0, m=1) -> None:\n",
    "    def __init__(self, x=0, y=0, vx=0, vy=0, m=1) -> None:\n",
    "        self.x, self.y = x, y\n",
    "        # self.V, self.theta, self.phi = V, theta, phi\n",
    "        # self.vx, self.vy, self.vz = V*sin(phi)*cos(theta), V*sin(phi)*sin(theta), V*cos(phi)\n",
    "        self.vx, self.vy = vx, vy\n",
    "        self.V = sqrt(vx**2+vy**2)\n",
    "        if (0==self.V):\n",
    "            self.theta = 0\n",
    "        else:\n",
    "            self.theta = acos(vx/(self.V))\n",
    "        # mass\n",
    "        self.m = m\n",
    "        # KineticEnergy\n",
    "        self.KE = 0.5 * self.m * (self.V)**2\n",
    "    def updateXY(self, x, y):\n",
    "        self.x, self.y = x, y\n",
    "    def updateVTheta(self, V, theta):\n",
    "        self.V, self.theta = V, theta\n",
    "        self.vx, self.vy = V*cos(theta), V*sin(theta)\n",
    "    def updateVxy(self, vx, vy):\n",
    "        self.vx, self.vy = vx, vy\n",
    "        self.V = sqrt(vx**2+vy**2)\n",
    "        self.theta = acos(vx/(self.V))\n",
    "    def updateKE(self):\n",
    "        self.KE = 0.5 * self.m * (self.V**2)\n",
    "    def updatePE(self, PE):\n",
    "        self.PE = PE\n"
   ]
  },
  {
   "cell_type": "markdown",
   "metadata": {},
   "source": [
    "Lennard-Jones势类"
   ]
  },
  {
   "cell_type": "code",
   "execution_count": 37,
   "metadata": {},
   "outputs": [],
   "source": [
    "class LennardJonesPotential(object):\n",
    "    def __init__(self, eplsion=1, sigma=1) -> None:\n",
    "        self.epsilon = eplsion\n",
    "        self.sigma = sigma\n",
    "    def potential(self, r):\n",
    "        return 4*self.epsilon*(pow(self.sigma/r, 12) - pow(self.sigma/r, 6))\n",
    "    def force_X(self, par1, par2):\n",
    "        # the force par1 got\n",
    "        r = ParticleDistence(par1, par2)\n",
    "        if (0 == r):\n",
    "            print(\"Error: Caculate force between the two same particles.\")\n",
    "            print(par1.x,\"\\t\",par1.y,\"\\t\",r)\n",
    "            exit(-1)\n",
    "        else:\n",
    "            Fx = (48*(self.epsilon/self.sigma/self.sigma)*\n",
    "            (par1.x-par2.x)*(pow(self.sigma/r, 14) - 0.5*pow(self.sigma/r, 8)))\n",
    "            # for debugging\n",
    "            if (Fx>100):\n",
    "                print(\"Error: Fx>100\")\n",
    "                print(\"r =\",r)\n",
    "                print(par1.x, par1.y)\n",
    "                print(par2.x, par2.y)\n",
    "                exit(-1)\n",
    "            return Fx\n",
    "    def force_Y(self, par1, par2):\n",
    "        # the force par1 got\n",
    "        r = ParticleDistence(par1, par2)\n",
    "        if (0 == r):\n",
    "            print(\"Error: Caculate force between the two same particles.\")\n",
    "            exit(-1)\n",
    "        else:\n",
    "            return (48*(self.epsilon/self.sigma/self.sigma)*\n",
    "            (par1.y-par2.y)*(pow(self.sigma/r, 14) - 0.5*pow(self.sigma/r, 8)))\n"
   ]
  },
  {
   "cell_type": "markdown",
   "metadata": {},
   "source": [
    "计算粒子受到的总力和总势能\n"
   ]
  },
  {
   "cell_type": "code",
   "execution_count": 38,
   "metadata": {},
   "outputs": [],
   "source": [
    "def AllForceAndPE(par, pars, potential):\n",
    "    Fx, Fy = 0, 0\n",
    "    PE = 0\n",
    "\n",
    "    for pari in pars:\n",
    "        # buffer\n",
    "        parBuffer = Particle2D(\n",
    "            pari.x, \n",
    "            pari.y, \n",
    "            m=pari.m\n",
    "            )\n",
    "\n",
    "        # check if is the same\n",
    "        if (par.x==parBuffer.x and par.y==parBuffer.y):\n",
    "            continue\n",
    "        # check if need mirror\n",
    "        if (parBuffer.x-par.x > Lx/2):\n",
    "            parBuffer.x -= Lx\n",
    "        elif (par.x-parBuffer.x > Lx/2):\n",
    "            parBuffer.x += Lx\n",
    "        if (parBuffer.y-par.y > Ly/2):\n",
    "            parBuffer.y -= Ly\n",
    "        elif (par.y-parBuffer.y > Ly/2):\n",
    "            parBuffer.y += Ly\n",
    "        # check if is the same\n",
    "        if (par.x==parBuffer.x and par.y==parBuffer.y):\n",
    "            continue\n",
    "\n",
    "        Fx += potential.force_X(par, parBuffer)\n",
    "        Fy += potential.force_Y(par, parBuffer)\n",
    "        PE += potential.potential(ParticleDistence(par, parBuffer))\n",
    "        \n",
    "    return Fx, Fy, PE\n"
   ]
  },
  {
   "cell_type": "markdown",
   "metadata": {},
   "source": [
    "元胞类"
   ]
  },
  {
   "cell_type": "code",
   "execution_count": 39,
   "metadata": {},
   "outputs": [],
   "source": [
    "class Cell3D(object):\n",
    "    def __init__(self, Lx, Ly, Ngrid, Npar, Mpar) -> None:\n",
    "        # length of cell\n",
    "        self.Lx, self.Ly = Lx, Ly\n",
    "        # number of particle\n",
    "        self.Npar = Npar\n",
    "        # particles\n",
    "        # this way of generation is the requirement of the homework.\n",
    "        self.pars = []\n",
    "        \n",
    "        gridpoints = [[0 for j in range(10)] for i in range(10)]\n",
    "        for i in range(Npar):\n",
    "            x = int(random.uniform(0, Ngrid))*Lx/Ngrid\n",
    "            y = int(random.uniform(0, Ngrid))*Ly/Ngrid \n",
    "            while (1==gridpoints[int(x)][int(y)]):\n",
    "                x = int(random.uniform(0, Ngrid))*Lx/Ngrid\n",
    "                y = int(random.uniform(0, Ngrid))*Ly/Ngrid \n",
    "            # mark particle\n",
    "            # 1 for exist particle\n",
    "            # for avoiding generate two particle at the same place\n",
    "            gridpoints[int(x)][int(y)] = 1\n",
    "\n",
    "            self.pars.append(Particle2D(\n",
    "                x, \n",
    "                y,  \n",
    "                random.uniform(-1,1), \n",
    "                random.uniform(-1,1), \n",
    "                Mpar\n",
    "                ))\n",
    "            \n",
    "    "
   ]
  },
  {
   "cell_type": "markdown",
   "metadata": {},
   "source": [
    "### 定义系统"
   ]
  },
  {
   "cell_type": "code",
   "execution_count": 40,
   "metadata": {},
   "outputs": [],
   "source": [
    "cell = Cell3D(Lx, Ly, Ngrid, Npar, m)\n",
    "potential = LennardJonesPotential()\n"
   ]
  },
  {
   "cell_type": "markdown",
   "metadata": {},
   "source": [
    "确定系综\n",
    "\n",
    "`condition=1` 表示微正则系综，能量守恒\n",
    "\n",
    "`condition=2` 表示正则系综，温度守恒\n"
   ]
  },
  {
   "cell_type": "code",
   "execution_count": 41,
   "metadata": {},
   "outputs": [],
   "source": [
    "# temperature\n",
    "T = 0.85\n",
    "\n",
    "condition = 2"
   ]
  },
  {
   "cell_type": "markdown",
   "metadata": {},
   "source": [
    "### 开始模拟并生成动画和图像"
   ]
  },
  {
   "cell_type": "markdown",
   "metadata": {},
   "source": [
    "这里我们使用Verlet速度形式算法:\n",
    "$$\\boldsymbol{r}^{(n+1)}_i = \\boldsymbol{r}^{(n)}_i+h\\boldsymbol{v}^{(n)}_i+\\frac{\\boldsymbol{F}^{(n)}_ih^2}{2m}$$\n",
    "$$\\boldsymbol{v}^{(n+1)}_i = \\boldsymbol{v}^{(n)}_i+\\frac{h(\\boldsymbol{F}^{(n+1)}_i+\\boldsymbol{F}^{(n)}_i)}{2m}$$"
   ]
  },
  {
   "cell_type": "code",
   "execution_count": 42,
   "metadata": {},
   "outputs": [],
   "source": [
    "# caculate F^(0) and PE\n",
    "for par in cell.pars:\n",
    "    par.Fx, par.Fy, par.PE = AllForceAndPE(par, cell.pars, potential)\n",
    "\n",
    "def iteration(Es, KEs, PEs):\n",
    "    # Total Energy\n",
    "    TotalE, TotalPE, TotalKE = 0, 0, 0\n",
    "    \n",
    "    # update r\n",
    "    for par in cell.pars:\n",
    "        x = par.x + h*par.vx + par.Fx*h*h/(2*m)\n",
    "        y = par.y + h*par.vy + par.Fy*h*h/(2*m)\n",
    "\n",
    "        # check if particle is out of the zone\n",
    "        # for debugging\n",
    "        x0 = x\n",
    "        # while (x<0 or x>Lx):\n",
    "        #     if (x<0):\n",
    "        #         x += Lx*(1+int(-x/Lx))\n",
    "        #     else:\n",
    "        #         x -= Lx*(int(x/Lx))\n",
    "        # x = x%Lx\n",
    "        if (x<0):\n",
    "            x += Lx\n",
    "        elif (x>Lx):\n",
    "            x -= Lx\n",
    "        # for debugging\n",
    "        if (x<0 or x>Lx):\n",
    "            print(\"update x Error\")\n",
    "            print(x0,x,int(x0/Lx))\n",
    "            print(par.Fx, par.Fy, par.PE)\n",
    "            print(par.V, par.vx, par.vy)\n",
    "            return -1\n",
    "        if (y<0):\n",
    "            y += Ly\n",
    "        elif (y>Ly):\n",
    "            y -= Ly\n",
    "        # y = y%Ly\n",
    "        # while (y<0 or y>Ly):\n",
    "        #     if (y<0):\n",
    "        #         y += Ly*(1+int(-y/Ly))\n",
    "        #     else:\n",
    "        #         y -= Ly*(int(y/Ly))\n",
    "            \n",
    "        par.updateXY(x,y)\n",
    "    # update v and PE\n",
    "    for par in cell.pars:\n",
    "        Fx1, Fy1, par.PE = AllForceAndPE(par, cell.pars, potential)\n",
    "        vx = par.vx + (Fx1+par.Fx)*h/(2*m)\n",
    "        vy = par.vy + (Fy1+par.Fy)*h/(2*m)\n",
    "        par.updateVxy(vx,vy)\n",
    "        par.Fx, par.Fy = Fx1, Fy1\n",
    "    # fix velocity and update KE\n",
    "    # and caculate Total Energy\n",
    "    if (1==condition):\n",
    "        # Energy consistent\n",
    "        sum_v2 = 0\n",
    "        for par in cell.pars:\n",
    "            sum_v2 += par.V**2\n",
    "        beta = sqrt(T*(Npar-1)/sum_v2)/4\n",
    "    elif (2==condition):\n",
    "        # Temperature consistent\n",
    "        sum_mv2 = 0\n",
    "        for par in cell.pars:\n",
    "            sum_mv2 += par.m*par.V**2\n",
    "        beta = sqrt(k*T*(3*Npar-4)/sum_mv2)\n",
    "\n",
    "    for par in cell.pars:\n",
    "        par.updateVxy(par.vx*beta, par.vy*beta)\n",
    "        par.updateKE()\n",
    "        TotalKE += par.KE\n",
    "        TotalPE += par.PE\n",
    "\n",
    "    TotalE = TotalKE + TotalPE\n",
    "    Es.append(TotalE)\n",
    "    KEs.append(TotalKE)\n",
    "    PEs.append(TotalPE)\n",
    "\n"
   ]
  },
  {
   "cell_type": "markdown",
   "metadata": {},
   "source": [
    "迭代\n",
    "\n",
    "绘制动能、势能和总能量随时间步的变化\n",
    "\n",
    "生成动画"
   ]
  },
  {
   "cell_type": "code",
   "execution_count": 43,
   "metadata": {},
   "outputs": [],
   "source": [
    "# caculate initial energy\n",
    "systemKE, systemPE, systemE = [], [], []\n",
    "KEs, PEs, Es = 0, 0, 0\n",
    "for par in cell.pars:\n",
    "    KEs += par.KE\n",
    "    PEs += par.PE\n",
    "    Es += (KEs+PEs)\n",
    "systemKE.append(KEs)\n",
    "systemPE.append(PEs)\n",
    "systemE.append(Es)\n"
   ]
  },
  {
   "cell_type": "markdown",
   "metadata": {},
   "source": [
    "注：这里输出中可能会有 `Error: Fx>100` 。\n",
    "\n",
    "这只是用于debug的输出，实际上出现 Fx>100 是正常的。"
   ]
  },
  {
   "cell_type": "code",
   "execution_count": 44,
   "metadata": {},
   "outputs": [
    {
     "name": "stderr",
     "output_type": "stream",
     "text": [
      "MovieWriter ffmpeg unavailable; using Pillow instead.\n"
     ]
    },
    {
     "name": "stdout",
     "output_type": "stream",
     "text": [
      "nframe=0\n",
      "nframe=0\n",
      "Error: Fx>100\n",
      "r = 0.9062183366134677\n",
      "8.56234955045608 0.5455919554465206\n",
      "7.81248687574844 0.036732797432454806\n",
      "Error: Fx>100\n",
      "r = 0.8995781105643778\n",
      "0.4371194968155763 4.985309927875647\n",
      "-0.45752052354024286 5.0794375592296515\n",
      "Error: Fx>100\n",
      "r = 0.896309651182179\n",
      "9.351470300157745 5.471533711922963\n",
      "8.502888042668816 5.760114970977174\n",
      "Error: Fx>100\n",
      "r = 0.904803230185016\n",
      "7.246157280886338 5.19477584152919\n",
      "6.42367633418103 4.8176896741085615\n",
      "Error: Fx>100\n",
      "r = 0.9108608837461569\n",
      "1.608873266160224 4.412589091520643\n",
      "0.7829734671752684 4.796720672590776\n",
      "Error: Fx>100\n",
      "r = 0.9078080932270106\n",
      "1.7723048512576647 2.153659067354631\n",
      "0.9695410758369911 2.5775527509603284\n",
      "Error: Fx>100\n",
      "r = 0.9108309249950624\n",
      "2.1585551276636075 5.067534293020201\n",
      "1.261709006354903 5.2265311754452775\n",
      "Error: Fx>100\n",
      "r = 0.9157453031864332\n",
      "4.837826807079055 6.337241140478992\n",
      "3.9490464726242953 6.116653340738167\n"
     ]
    },
    {
     "data": {
      "image/png": "[encoded data removed]",
      "text/plain": [
       "<Figure size 864x576 with 1 Axes>"
      ]
     },
     "metadata": {
      "needs_background": "light"
     },
     "output_type": "display_data"
    },
    {
     "data": {
      "image/png": "[encoded data removed]",
      "text/plain": [
       "<Figure size 864x576 with 3 Axes>"
      ]
     },
     "metadata": {
      "needs_background": "light"
     },
     "output_type": "display_data"
    }
   ],
   "source": [
    "\n",
    "\n",
    "# animation\n",
    "from matplotlib import animation\n",
    "fig = plt.figure(figsize=(12,8))\n",
    "ax = fig.add_subplot()\n",
    "\n",
    "\n",
    "def animate(nframe):\n",
    "    if (nframe==0):\n",
    "        print(\"nframe=0\")\n",
    "    elif (nframe==200):\n",
    "        print(\"nframe=200\")\n",
    "    elif (nframe==201):\n",
    "        print(\"nframe=201\")\n",
    "    if (-1==iteration(systemE, systemKE, systemPE)):\n",
    "        print(\"update x Error\")\n",
    "        print(nframe)\n",
    "        exit(-1)\n",
    "    # plt.xlim(0, Lx)\n",
    "    # plt.ylim(0, Ly)\n",
    "    Xs, Ys = [], []\n",
    "    for par in cell.pars:\n",
    "        Xs.append(par.x)\n",
    "        Ys.append(par.y)\n",
    "\n",
    "    # plt.cla()\n",
    "    ax.cla()\n",
    "    ax.set_xlim(0, Lx)\n",
    "    ax.set_ylim(0, Ly)\n",
    "    ax.set_xlabel(\"X\")\n",
    "    ax.set_ylabel(\"Y\")\n",
    "    ax.scatter(Xs, Ys)\n",
    "anim = animation.FuncAnimation(fig, animate, frames=199)\n",
    "# anim.save(\"animation.gif\", fps=800)\n",
    "# anim.save(\"fps800.gif\", fps=800)\n",
    "anim.save(\"2dfps200.gif\", fps=200)\n",
    "\n",
    "\n",
    "# 2D line\n",
    "Nsteps = [i for i in range(201)]\n",
    "\n",
    "fig1, ax1 = plt.subplots(3, 1, figsize=(12,8))\n",
    "axKE, axPE, axE = ax1[0], ax1[1], ax1[2]\n",
    "\n",
    "axKE.set_xlabel(\"steps\")\n",
    "axKE.set_ylabel(\"Kinetic energy\")\n",
    "# axKE.set_title('')\n",
    "axKE.plot(Nsteps, systemKE)\n",
    "\n",
    "axPE.set_xlabel(\"steps\")\n",
    "axPE.set_ylabel(\"Potential energy\")\n",
    "axPE.plot(Nsteps, systemPE)\n",
    "\n",
    "axE.set_xlabel(\"steps\")\n",
    "axE.set_ylabel(\"Energy\")\n",
    "axE.plot(Nsteps, systemE)\n",
    "\n",
    "plt.show()\n"
   ]
  },
  {
   "cell_type": "markdown",
   "metadata": {},
   "source": [
    "生成的动画效果如下\n",
    "\n",
    "![gif](2dfps200.gif)"
   ]
  },
  {
   "cell_type": "markdown",
   "metadata": {},
   "source": [
    "绘制最终速度分布图(归一化之后)并与Maxwell-Boltzmann分布做对比"
   ]
  },
  {
   "cell_type": "code",
   "execution_count": 45,
   "metadata": {},
   "outputs": [
    {
     "data": {
      "image/png": "[encoded data removed]",
      "text/plain": [
       "<Figure size 432x288 with 1 Axes>"
      ]
     },
     "metadata": {
      "needs_background": "light"
     },
     "output_type": "display_data"
    }
   ],
   "source": [
    "# collect velocity of particles\n",
    "parVs = []\n",
    "for par in cell.pars:\n",
    "    parVs.append(par.V)\n",
    "\n",
    "fig2 = plt.figure()\n",
    "ax2 = fig2.add_subplot()\n",
    "n, bins, patches = ax2.hist(parVs, bins=10, density=True)\n",
    "\n",
    "import numpy as np\n",
    "# Maxwell-Boltzmann distribution line\n",
    "bins = np.linspace(bins.min(), bins.max(), 100)\n",
    "y = np.power(sqrt(m/(2*np.pi*k*T)), 3)*4*np.pi*bins*bins*np.exp(-m*bins*bins/(2*k*T))\n",
    "ax2.plot(bins, y, ls=\"--\")\n",
    "\n",
    "plt.show()\n"
   ]
  },
  {
   "cell_type": "markdown",
   "metadata": {},
   "source": [
    "可看出速度分布近似为Maxwell-Boltzmann分布"
   ]
  }
 ],
 "metadata": {
  "kernelspec": {
   "display_name": "Python 3.8.8 ('base')",
   "language": "python",
   "name": "python3"
  },
  "language_info": {
   "codemirror_mode": {
    "name": "ipython",
    "version": 3
   },
   "file_extension": ".py",
   "mimetype": "text/x-python",
   "name": "python",
   "nbconvert_exporter": "python",
   "pygments_lexer": "ipython3",
   "version": "3.8.8"
  },
  "orig_nbformat": 4,
  "vscode": {
   "interpreter": {
    "hash": "f9ac8dd3a99bb1ea99ca7c2b25771441ad4391538e000abd3dfba9abc5b655bd"
   }
  }
 },
 "nbformat": 4,
 "nbformat_minor": 2
}
